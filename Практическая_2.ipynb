{
  "nbformat": 4,
  "nbformat_minor": 0,
  "metadata": {
    "colab": {
      "name": "Практическая 2",
      "provenance": [],
      "authorship_tag": "ABX9TyNGSCLCUzD7JC7HKcCD1HbK",
      "include_colab_link": true
    },
    "kernelspec": {
      "name": "python3",
      "display_name": "Python 3"
    },
    "language_info": {
      "name": "python"
    }
  },
  "cells": [
    {
      "cell_type": "markdown",
      "metadata": {
        "id": "view-in-github",
        "colab_type": "text"
      },
      "source": [
        "<a href=\"https://colab.research.google.com/github/TEMAstst/OOAP/blob/main/%D0%9F%D1%80%D0%B0%D0%BA%D1%82%D0%B8%D1%87%D0%B5%D1%81%D0%BA%D0%B0%D1%8F_2.ipynb\" target=\"_parent\"><img src=\"https://colab.research.google.com/assets/colab-badge.svg\" alt=\"Open In Colab\"/></a>"
      ]
    },
    {
      "cell_type": "markdown",
      "source": [
        "Задание 1"
      ],
      "metadata": {
        "id": "cUxkTuBrmcuR"
      }
    },
    {
      "cell_type": "code",
      "execution_count": 3,
      "metadata": {
        "colab": {
          "base_uri": "https://localhost:8080/"
        },
        "id": "XLDW_FEGkuNk",
        "outputId": "23dacf6a-051a-4c30-ac0d-442fb75effad"
      },
      "outputs": [
        {
          "name": "stdout",
          "output_type": "stream",
          "text": [
            "Н Мусько, 3\n",
            "С Жданкин, 1\n",
            "А Исмаилов, 2\n",
            "Досвидания, мистер С Жданкин\n",
            "Досвидания, мистер Н Мусько\n",
            "Досвидания, мистер А Исмаилов\n",
            "Введите enter: 9\n"
          ]
        }
      ],
      "source": [
        "class Person: \n",
        "    def __init__(self, n, s, q = 1):\n",
        "        self.name = n \n",
        "        self.surname = s \n",
        "        self.skill = q \n",
        "\n",
        "    def info(self):\n",
        "        return \"{0} {1}, {2}\".format(self.name, self.surname, self.skill)\n",
        "\n",
        "    def __del__(self):\n",
        "        print(\"Досвидания, мистер\", self.name, self.surname)\n",
        "\n",
        "worker = Person(\"Н\", \"Мусько\", 3)\n",
        "helper = Person(\"С\", \"Жданкин\", 1) \n",
        "maker = Person(\"А\", \"Исмаилов\", 2) \n",
        "\n",
        "print(worker.info())\n",
        "print(helper.info())\n",
        "print(maker.info())\n",
        "\n",
        "del helper\n",
        "\n",
        "try:\n",
        "    input(\"Введите enter: \")\n",
        "except SyntaxError:\n",
        "    exit()"
      ]
    },
    {
      "cell_type": "markdown",
      "source": [
        "Задание 2"
      ],
      "metadata": {
        "id": "S-gZHIHooW3K"
      }
    },
    {
      "cell_type": "code",
      "source": [
        "class Student:\n",
        "    def __init__(self, name, data, phone, mail, university, gender, faculty, special, grade, group='ADEU-211'):\n",
        "        self.name = name\n",
        "        self.data = data\n",
        "        self.phone = phone\n",
        "        self.mail = mail\n",
        "        self.university = university\n",
        "        self.gender = gender\n",
        "        self.faculty = faculty\n",
        "        self.special = special\n",
        "        self.grade = grade\n",
        "        self.group = group\n",
        "\n",
        "    def display(self):\n",
        "        return self.name, self.grade, d[self.grade]\n",
        "\n",
        "    def deduction(self):\n",
        "        print(\"Отчислен студент \" + str(self.display()))\n",
        "\n",
        "    def __del__(self):\n",
        "        if self.grade == 2:\n",
        "            self.deduction()\n",
        "d = {2: 'Задолжник', 4: 'Ударник', 5: 'Отличник'}\n",
        "s1 = Student(\"Жданкин\", \"22.02.2003\", \"89039716285\", \"serega@gmail.com\", \"МГПУ\", \"м\", \"11\", \"211\", 2)\n",
        "s2 = Student(\"Мусько\", \"04.09.2002\", \"89055826446\", \"musko@gmail.com\", \"МГПУ\", \"ж\", \"11\", \"211\", 5)\n",
        "if s1.grade > s2.grade:\n",
        "    s2.deduction()\n",
        "elif s1.grade < s2.grade:\n",
        "    s1.deduction()\n",
        "else:\n",
        "    print(\"МОЛОДЦЫ!\")"
      ],
      "metadata": {
        "colab": {
          "base_uri": "https://localhost:8080/"
        },
        "id": "8S3DVqqGtCAu",
        "outputId": "bd94e40b-b087-432f-9b0d-388e90b18380"
      },
      "execution_count": 5,
      "outputs": [
        {
          "output_type": "stream",
          "name": "stdout",
          "text": [
            "Отчислен студент ('Жданкин', 2, 'Задолжник')\n"
          ]
        }
      ]
    }
  ]
}